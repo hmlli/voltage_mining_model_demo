{
 "cells": [
  {
   "cell_type": "markdown",
   "metadata": {},
   "source": [
    "## Software dependencies\n",
    "to make sure the following code works properly, please use the software versions specified below:"
   ]
  },
  {
   "cell_type": "code",
   "execution_count": null,
   "metadata": {},
   "outputs": [],
   "source": [
    "# python==3.10.14\n",
    "# jupyterlab==4.1.5\n",
    "# ipykernel==6.29.3\n",
    "# dill==0.3.8\n",
    "# matminer==0.9.0\n",
    "# scikit-learn==1.4.1.post1\n",
    "# pymatgen==2023.9.25\n",
    "# numpy==1.26.4\n",
    "# pandas==1.5.3"
   ]
  },
  {
   "cell_type": "code",
   "execution_count": null,
   "metadata": {},
   "outputs": [],
   "source": [
    "from voltage_mining_model import VoltageMiningModel\n",
    "from xgboost import XGBRegressor\n",
    "import dill"
   ]
  },
  {
   "cell_type": "markdown",
   "metadata": {},
   "source": [
    "### Model Demo"
   ]
  },
  {
   "cell_type": "code",
   "execution_count": null,
   "metadata": {},
   "outputs": [],
   "source": [
    "# load the voltage mining model python instance with dill\n",
    "with open('data/vmm_demo.pkl', 'rb') as file:\n",
    "    vmm = dill.load(file)"
   ]
  },
  {
   "cell_type": "markdown",
   "metadata": {},
   "source": [
    "The following cell loads a csv file and returns a pandas dataframe with the chemical formulae and predicted voltage. \\\n",
    "Make sure that your csv file is formatted the same as the `demo.csv` file provided. It should have a column of indices (with no ID), a column of charged phase formula and a column of discharge phase formula."
   ]
  },
  {
   "cell_type": "code",
   "execution_count": null,
   "metadata": {},
   "outputs": [],
   "source": [
    "# this cell loads a csv file (a demo file in this cell) and predict voltage from the provided charged & discharged phases formulae\n",
    "# you may change the file path to your own csv file with chemical formulae for voltage prediction\n",
    "# you may change the \"output_csv\" option to True to save a copy of the predictions\n",
    "pred_df = vmm.pred_from_file(file_path=\"data/demo.csv\", output_csv=False)\n",
    "pred_df.head()"
   ]
  },
  {
   "cell_type": "markdown",
   "metadata": {},
   "source": [
    "## Reproducing results from publication"
   ]
  },
  {
   "cell_type": "code",
   "execution_count": null,
   "metadata": {},
   "outputs": [],
   "source": [
    "# load the train and test sets from csv files\n",
    "# predict voltage based on formula\n",
    "# this cell could take up to minutes to run\n",
    "train_pred_df = vmm.pred_from_file(\"data/train.csv\", output_csv=False)\n",
    "test_pred_df = vmm.pred_from_file(\"data/test.csv\", output_csv=False)"
   ]
  },
  {
   "cell_type": "code",
   "execution_count": null,
   "metadata": {},
   "outputs": [],
   "source": [
    "# reproduce the performance stats from the manuscript\n",
    "from sklearn.metrics import r2_score, mean_absolute_error\n",
    "train_true_v, train_pred_v = train_pred_df[\"voltage\"], train_pred_df[\"predicted_voltage\"]\n",
    "test_true_v, test_pred_v = test_pred_df[\"voltage\"], test_pred_df[\"predicted_voltage\"]\n",
    "print(f\"training set performance: r^2={r2_score(train_true_v, train_pred_v)}, mae={mean_absolute_error(train_true_v, train_pred_v)}\")\n",
    "print(f\"test set performance: r^2={r2_score(test_true_v, test_pred_v)}, mae={mean_absolute_error(test_true_v, test_pred_v)}\")"
   ]
  },
  {
   "cell_type": "code",
   "execution_count": null,
   "metadata": {},
   "outputs": [],
   "source": []
  }
 ],
 "metadata": {
  "kernelspec": {
   "display_name": "Python 3 (ipykernel)",
   "language": "python",
   "name": "python3"
  },
  "language_info": {
   "codemirror_mode": {
    "name": "ipython",
    "version": 3
   },
   "file_extension": ".py",
   "mimetype": "text/x-python",
   "name": "python",
   "nbconvert_exporter": "python",
   "pygments_lexer": "ipython3",
   "version": "3.10.14"
  }
 },
 "nbformat": 4,
 "nbformat_minor": 4
}
