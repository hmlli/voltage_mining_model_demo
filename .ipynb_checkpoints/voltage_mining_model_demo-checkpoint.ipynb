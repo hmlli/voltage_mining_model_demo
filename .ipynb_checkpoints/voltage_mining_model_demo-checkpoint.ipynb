{
 "cells": [
  {
   "cell_type": "markdown",
   "metadata": {},
   "source": [
    "## Software dependencies\n",
    "to make sure the following code works properly, please use the software versions specified below:"
   ]
  },
  {
   "cell_type": "code",
   "execution_count": 17,
   "metadata": {},
   "outputs": [],
   "source": [
    "# python==3.10.14\n",
    "# jupyterlab==4.1.5\n",
    "# ipykernel==6.29.3\n",
    "# dill==0.3.8\n",
    "# matminer==0.9.0\n",
    "# scikit-learn==1.4.1.post1\n",
    "# pymatgen==2023.9.25\n",
    "# numpy==1.26.4\n",
    "# pandas==1.5.3"
   ]
  },
  {
   "cell_type": "code",
   "execution_count": 18,
   "metadata": {},
   "outputs": [],
   "source": [
    "from voltage_mining_model import VoltageMiningModel\n",
    "from xgboost import XGBRegressor\n",
    "import dill"
   ]
  },
  {
   "cell_type": "markdown",
   "metadata": {},
   "source": [
    "### Model Demo"
   ]
  },
  {
   "cell_type": "code",
   "execution_count": 19,
   "metadata": {},
   "outputs": [],
   "source": [
    "# load the voltage mining model python instance with dill\n",
    "with open('data/vmm_demo.pkl', 'rb') as file:\n",
    "    vmm = dill.load(file)"
   ]
  },
  {
   "cell_type": "markdown",
   "metadata": {},
   "source": [
    "The following cell loads a csv file and returns a pandas dataframe with the chemical formulae and predicted voltage. \\\n",
    "Make sure that your csv file is formatted the same as the `demo.csv` file provided. It should have a column of indices (with no ID), a column of charged phase formula and a column of discharge phase formula."
   ]
  },
  {
   "cell_type": "code",
   "execution_count": 20,
   "metadata": {},
   "outputs": [
    {
     "name": "stderr",
     "output_type": "stream",
     "text": [
      "StrToComposition: 100%|█████████████████████████████████████████████████████████████████████████████████████████████████████████████████████████████████████████████████████████████| 24/24 [00:00<00:00, 96.90it/s]\n",
      "ElementProperty: 100%|█████████████████████████████████████████████████████████████████████████████████████████████████████████████████████████████████████████████████████████████| 24/24 [00:00<00:00, 101.52it/s]\n",
      "StrToComposition: 100%|████████████████████████████████████████████████████████████████████████████████████████████████████████████████████████████████████████████████████████████| 24/24 [00:00<00:00, 100.58it/s]\n",
      "ElementProperty: 100%|██████████████████████████████████████████████████████████████████████████████████████████████████████████████████████████████████████████████████████████████| 24/24 [00:00<00:00, 99.45it/s]\n"
     ]
    },
    {
     "data": {
      "text/html": [
       "<div>\n",
       "<style scoped>\n",
       "    .dataframe tbody tr th:only-of-type {\n",
       "        vertical-align: middle;\n",
       "    }\n",
       "\n",
       "    .dataframe tbody tr th {\n",
       "        vertical-align: top;\n",
       "    }\n",
       "\n",
       "    .dataframe thead th {\n",
       "        text-align: right;\n",
       "    }\n",
       "</style>\n",
       "<table border=\"1\" class=\"dataframe\">\n",
       "  <thead>\n",
       "    <tr style=\"text-align: right;\">\n",
       "      <th></th>\n",
       "      <th>formula_charge</th>\n",
       "      <th>formula_discharge</th>\n",
       "      <th>predicted_voltage</th>\n",
       "    </tr>\n",
       "  </thead>\n",
       "  <tbody>\n",
       "    <tr>\n",
       "      <th>0</th>\n",
       "      <td>Fe9(PO4)8</td>\n",
       "      <td>Li6Fe9(PO4)8</td>\n",
       "      <td>2.964490</td>\n",
       "    </tr>\n",
       "    <tr>\n",
       "      <th>1</th>\n",
       "      <td>LiTiMn3O8</td>\n",
       "      <td>Li3TiMn3O8</td>\n",
       "      <td>3.164107</td>\n",
       "    </tr>\n",
       "    <tr>\n",
       "      <th>2</th>\n",
       "      <td>MnFe(PO4)2</td>\n",
       "      <td>Li2MnFe(PO4)2</td>\n",
       "      <td>3.596561</td>\n",
       "    </tr>\n",
       "    <tr>\n",
       "      <th>3</th>\n",
       "      <td>LiTiCoO4</td>\n",
       "      <td>Li2TiCoO4</td>\n",
       "      <td>2.908793</td>\n",
       "    </tr>\n",
       "    <tr>\n",
       "      <th>4</th>\n",
       "      <td>VPO5</td>\n",
       "      <td>LiVPO5</td>\n",
       "      <td>3.770084</td>\n",
       "    </tr>\n",
       "  </tbody>\n",
       "</table>\n",
       "</div>"
      ],
      "text/plain": [
       "  formula_charge formula_discharge  predicted_voltage\n",
       "0      Fe9(PO4)8      Li6Fe9(PO4)8           2.964490\n",
       "1      LiTiMn3O8        Li3TiMn3O8           3.164107\n",
       "2     MnFe(PO4)2     Li2MnFe(PO4)2           3.596561\n",
       "3       LiTiCoO4         Li2TiCoO4           2.908793\n",
       "4           VPO5            LiVPO5           3.770084"
      ]
     },
     "execution_count": 20,
     "metadata": {},
     "output_type": "execute_result"
    }
   ],
   "source": [
    "# this cell loads a csv file and predict voltage from the provided charged & discharged phases formulae\n",
    "# you may change the \"output_csv\" option to True to save a copy of the predictions\n",
    "pred_df = vmm.pred_from_file(file_path=\"data/demo.csv\", output_csv=False)\n",
    "pred_df.head()"
   ]
  },
  {
   "cell_type": "code",
   "execution_count": null,
   "metadata": {},
   "outputs": [],
   "source": []
  }
 ],
 "metadata": {
  "kernelspec": {
   "display_name": "Python 3 (ipykernel)",
   "language": "python",
   "name": "python3"
  },
  "language_info": {
   "codemirror_mode": {
    "name": "ipython",
    "version": 3
   },
   "file_extension": ".py",
   "mimetype": "text/x-python",
   "name": "python",
   "nbconvert_exporter": "python",
   "pygments_lexer": "ipython3",
   "version": "3.10.14"
  }
 },
 "nbformat": 4,
 "nbformat_minor": 4
}
